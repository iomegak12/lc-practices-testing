{
 "cells": [
  {
   "cell_type": "code",
   "execution_count": null,
   "metadata": {},
   "outputs": [],
   "source": [
    "import os\n",
    "from dotenv import load_dotenv\n",
    "from langchain_openai import ChatOpenAI\n",
    "from langchain.chains import LLMChain, SequentialChain\n",
    "from langchain.prompts import PromptTemplate"
   ]
  },
  {
   "cell_type": "code",
   "execution_count": null,
   "metadata": {},
   "outputs": [],
   "source": [
    "load_dotenv()\n",
    "\n",
    "openai_api_key = os.environ[\"OPENAI_API_KEY\"]\n",
    "model_name = \"gpt-3.5-turbo-0125\"\n",
    "llm = ChatOpenAI(\n",
    "    model=model_name,\n",
    "    openai_api_key=openai_api_key,\n",
    "    temperature=0.1,\n",
    "    max_tokens=1000\n",
    ")"
   ]
  },
  {
   "cell_type": "code",
   "execution_count": null,
   "metadata": {},
   "outputs": [],
   "source": [
    "template1 = \"\"\"\n",
    "Write a blog outline given a topic\n",
    "\n",
    "Topic: {topic}\n",
    "\"\"\"\n",
    "\n",
    "template2 = \"\"\"\n",
    "Write a blog article based on the below outline.\n",
    "\n",
    "Outline: {outline}\n",
    "\"\"\"\n",
    "\n",
    "prompt1 = PromptTemplate(\n",
    "    input_variables = [\"topic\"],\n",
    "    template = template1\n",
    ")\n",
    "\n",
    "prompt2 = PromptTemplate(\n",
    "    input_variables = [\"outline\"],\n",
    "    template = template1\n",
    ")\n",
    "\n",
    "chain1 = LLMChain(\n",
    "    llm = llm,\n",
    "    prompt = prompt1,\n",
    "    output_key = \"outline\"\n",
    ")\n",
    "\n",
    "chain2 = LLMChain(\n",
    "    llm = llm,\n",
    "    prompt = prompt2,\n",
    "    output_key = \"article\"\n",
    ")\n",
    "\n",
    "overall_chain = SequentialChain(\n",
    "    chains = [chain1, chain2],\n",
    "    input_variables = [\"topic\"],\n",
    "    output_variables = [\"outline\", \"article\"],\n",
    "    verbose = True\n",
    ")"
   ]
  },
  {
   "cell_type": "code",
   "execution_count": null,
   "metadata": {},
   "outputs": [],
   "source": [
    "response = overall_chain({\n",
    "    \"topic\": \"Corona Virus Management in India\"\n",
    "})\n",
    "\n",
    "print(response)"
   ]
  },
  {
   "cell_type": "code",
   "execution_count": null,
   "metadata": {},
   "outputs": [],
   "source": [
    "print(response[\"outline\"])"
   ]
  },
  {
   "cell_type": "code",
   "execution_count": null,
   "metadata": {},
   "outputs": [],
   "source": [
    "print(response[\"article\"])"
   ]
  }
 ],
 "metadata": {
  "kernelspec": {
   "display_name": "env",
   "language": "python",
   "name": "python3"
  },
  "language_info": {
   "codemirror_mode": {
    "name": "ipython",
    "version": 3
   },
   "file_extension": ".py",
   "mimetype": "text/x-python",
   "name": "python",
   "nbconvert_exporter": "python",
   "pygments_lexer": "ipython3",
   "version": "3.12.7"
  }
 },
 "nbformat": 4,
 "nbformat_minor": 2
}
