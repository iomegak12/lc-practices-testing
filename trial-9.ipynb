{
 "cells": [
  {
   "cell_type": "code",
   "execution_count": null,
   "metadata": {},
   "outputs": [],
   "source": [
    "import os\n",
    "from dotenv import load_dotenv\n",
    "from langchain import hub\n",
    "from langchain_openai import ChatOpenAI\n",
    "from langchain_core.tools import tool\n",
    "from langchain.agents import AgentExecutor, create_tool_calling_agent\n",
    "from langchain_community.utilities import GoogleSerperAPIWrapper\n"
   ]
  },
  {
   "cell_type": "code",
   "execution_count": null,
   "metadata": {},
   "outputs": [],
   "source": [
    "load_dotenv()\n",
    "\n",
    "openai_api_key = os.environ[\"OPENAI_API_KEY\"]\n",
    "model_name = \"gpt-3.5-turbo-0125\"\n",
    "llm = ChatOpenAI(\n",
    "    model = model_name,\n",
    "    openai_api_key = openai_api_key,\n",
    "    temperature = 1,\n",
    "    max_tokens = 1000\n",
    ")"
   ]
  },
  {
   "cell_type": "code",
   "execution_count": null,
   "metadata": {},
   "outputs": [],
   "source": [
    "@tool\n",
    "def multiply(first_int: int, second_int: int) -> int:\n",
    "    \"\"\"Multiplies two integers together\"\"\"\n",
    "\n",
    "    return first_int * second_int\n",
    "\n",
    "\n",
    "@tool\n",
    "def add(first_int: int, second_int: int) -> int:\n",
    "    \"\"\"Adds or Sums two integers together\"\"\"\n",
    "\n",
    "    return first_int + second_int\n",
    "\n",
    "\n",
    "@tool\n",
    "def exponentize(base: int, exponent: int) -> int:\n",
    "    \"\"\"Exponentize the base to the exponent value\"\"\"\n",
    "\n",
    "    return base ** exponent\n",
    "\n",
    "@tool(\"SerperSearch\")\n",
    "def search(query_string: str):\n",
    "    \"\"\"\n",
    "    Useful to search for any kind of information and\n",
    "    when you need to search the internet for any kinds of detailed information.\n",
    "    \"\"\"\n",
    "\n",
    "    search = GoogleSerperAPIWrapper()\n",
    "    \n",
    "    return search.run(query_string)"
   ]
  },
  {
   "cell_type": "code",
   "execution_count": null,
   "metadata": {},
   "outputs": [],
   "source": [
    "tools = [multiply, add, exponentize, search]\n",
    "prompt = hub.pull(\"hwchase17/openai-tools-agent\")\n",
    "agent = create_tool_calling_agent(llm, tools, prompt)\n",
    "agent_executor = AgentExecutor(agent = agent, tools = tools, verbose = True)"
   ]
  },
  {
   "cell_type": "code",
   "execution_count": null,
   "metadata": {},
   "outputs": [],
   "source": [
    "question = \"take 3 to the fifth power and multiply that by the sum of twelve and three, then square the whole result. And let me know the capital of Malaysia\"\n",
    "\n",
    "response = agent_executor.invoke({\n",
    "    \"input\": question\n",
    "})\n",
    "\n",
    "print(response)"
   ]
  }
 ],
 "metadata": {
  "kernelspec": {
   "display_name": "env",
   "language": "python",
   "name": "python3"
  },
  "language_info": {
   "codemirror_mode": {
    "name": "ipython",
    "version": 3
   },
   "file_extension": ".py",
   "mimetype": "text/x-python",
   "name": "python",
   "nbconvert_exporter": "python",
   "pygments_lexer": "ipython3",
   "version": "3.12.7"
  }
 },
 "nbformat": 4,
 "nbformat_minor": 2
}
