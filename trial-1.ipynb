{
 "cells": [
  {
   "cell_type": "code",
   "execution_count": 1,
   "metadata": {},
   "outputs": [],
   "source": [
    "from art import tprint"
   ]
  },
  {
   "cell_type": "code",
   "execution_count": 2,
   "metadata": {},
   "outputs": [
    {
     "name": "stdout",
     "output_type": "stream",
     "text": [
      "  ____                                  _    _                   _     ___  __        __              _      _ \n",
      " / ___|  ___  _ __    ___  _ __   __ _ | |_ (_)__   __  ___     / \\   |_ _| \\ \\      / /  ___   _ __ | |  __| |\n",
      "| |  _  / _ \\| '_ \\  / _ \\| '__| / _` || __|| |\\ \\ / / / _ \\   / _ \\   | |   \\ \\ /\\ / /  / _ \\ | '__|| | / _` |\n",
      "| |_| ||  __/| | | ||  __/| |   | (_| || |_ | | \\ V / |  __/  / ___ \\  | |    \\ V  V /  | (_) || |   | || (_| |\n",
      " \\____| \\___||_| |_| \\___||_|    \\__,_| \\__||_|  \\_/   \\___| /_/   \\_\\|___|    \\_/\\_/    \\___/ |_|   |_| \\__,_|\n",
      "                                                                                                               \n",
      "\n"
     ]
    }
   ],
   "source": [
    "tprint(\"Generative AI World\")"
   ]
  }
 ],
 "metadata": {
  "kernelspec": {
   "display_name": "env",
   "language": "python",
   "name": "python3"
  },
  "language_info": {
   "codemirror_mode": {
    "name": "ipython",
    "version": 3
   },
   "file_extension": ".py",
   "mimetype": "text/x-python",
   "name": "python",
   "nbconvert_exporter": "python",
   "pygments_lexer": "ipython3",
   "version": "3.12.7"
  }
 },
 "nbformat": 4,
 "nbformat_minor": 2
}
